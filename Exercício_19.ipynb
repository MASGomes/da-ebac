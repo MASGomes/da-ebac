{
  "nbformat": 4,
  "nbformat_minor": 0,
  "metadata": {
    "colab": {
      "provenance": []
    },
    "kernelspec": {
      "name": "python3",
      "display_name": "Python 3"
    }
  },
  "cells": [
    {
      "cell_type": "markdown",
      "metadata": {
        "id": "KJqp9AANOCtf"
      },
      "source": [
        "<img src=\"https://raw.githubusercontent.com/andre-marcos-perez/ebac-course-utils/main/media/logo/newebac_logo_black_half.png\" alt=\"ebac-logo\">\n",
        "\n",
        "---\n",
        "\n",
        "# **Módulo** | Análise de Dados: Controle de Versão III\n",
        "Caderno de **Exercícios**<br>\n",
        "Professor [André Perez](https://www.linkedin.com/in/andremarcosperez/)\n",
        "\n",
        "---"
      ]
    },
    {
      "cell_type": "markdown",
      "metadata": {
        "id": "d9jDtUbDOE1-"
      },
      "source": [
        "# **Tópicos**\n",
        "\n",
        "<ol type=\"1\">\n",
        "  <li>Sistema de branchs;</li>\n",
        "  <li>Trabalhando com branchs;</li>\n",
        "  <li>Mover código entre branchs.</li>\n",
        "</ol>"
      ]
    },
    {
      "cell_type": "markdown",
      "metadata": {
        "id": "SmoHgt-lwkpD"
      },
      "source": [
        "---"
      ]
    },
    {
      "cell_type": "markdown",
      "metadata": {
        "id": "GABI6OW8OfQ2"
      },
      "source": [
        "# **Exercícios**"
      ]
    },
    {
      "cell_type": "markdown",
      "metadata": {
        "id": "kzRDceCvkFj2"
      },
      "source": [
        "## 1\\. Setup"
      ]
    },
    {
      "cell_type": "markdown",
      "metadata": {
        "id": "WCQi-s0Hpd5V"
      },
      "source": [
        "Para realizar os exercicios vamos configurar o `git` e trazer o projeto do GitHub para a a máquina virtual do Google Colab (ou na sua máquina local, as instruções são as mesmas). Para tanto, replique as atividades expostas na aula 1 deste módulo."
      ]
    },
    {
      "cell_type": "markdown",
      "metadata": {
        "id": "HrTLgE0tki6P"
      },
      "source": [
        "### **1.1. Autenticação**"
      ]
    },
    {
      "cell_type": "markdown",
      "metadata": {
        "id": "7tIjNOs8q6aZ"
      },
      "source": [
        "Nesta etapa, vamos configura o `git` com suas credenciais."
      ]
    },
    {
      "cell_type": "code",
      "metadata": {
        "id": "IwTTh4VKkdKN"
      },
      "source": [
        "import os\n",
        "\n",
        "username = \"MASGomes\" # insira o seu nome de usuário do git\n",
        "os.environ[\"GITHUB_USER\"] = username\n",
        "\n",
        "!git config --global user.name \"${GITHUB_USER}\""
      ],
      "execution_count": 1,
      "outputs": []
    },
    {
      "cell_type": "code",
      "metadata": {
        "id": "8gt4Y28skdKO",
        "colab": {
          "base_uri": "https://localhost:8080/"
        },
        "outputId": "ce8b85f8-35bb-4552-c727-a6c1649c5afe"
      },
      "source": [
        "import os\n",
        "from getpass import getpass\n",
        "\n",
        "usermail = getpass()\n",
        "os.environ[\"GITHUB_MAIL\"] = usermail\n",
        "\n",
        "!git config --global user.email \"${GITHUB_MAIL}\""
      ],
      "execution_count": 2,
      "outputs": [
        {
          "name": "stdout",
          "output_type": "stream",
          "text": [
            "··········\n"
          ]
        }
      ]
    },
    {
      "cell_type": "code",
      "metadata": {
        "id": "BS6vMNnCkdKO",
        "colab": {
          "base_uri": "https://localhost:8080/"
        },
        "outputId": "93c1467d-fc42-478b-c9b5-2adffbe4eeb0"
      },
      "source": [
        "import os\n",
        "from getpass import getpass\n",
        "\n",
        "usertoken = getpass()\n",
        "os.environ[\"GITHUB_TOKEN\"] = usertoken"
      ],
      "execution_count": 3,
      "outputs": [
        {
          "name": "stdout",
          "output_type": "stream",
          "text": [
            "··········\n"
          ]
        }
      ]
    },
    {
      "cell_type": "markdown",
      "metadata": {
        "id": "TTh7w8rgkznY"
      },
      "source": [
        "### **1.2. Projeto**"
      ]
    },
    {
      "cell_type": "markdown",
      "metadata": {
        "id": "clBerimQs2PY"
      },
      "source": [
        "Nesta etapa, vamos trazer o projeto do GitHub para máquina local."
      ]
    },
    {
      "cell_type": "code",
      "metadata": {
        "id": "fohdVuLzkdKP",
        "colab": {
          "base_uri": "https://localhost:8080/"
        },
        "outputId": "7525d613-7cfa-42c9-8409-c46208654d56"
      },
      "source": [
        "repo_url = f\"https://{usertoken}@github.com/{username}/da-ebac.git\" # insira o link do seu repositório remoto\n",
        "!git clone {repo_url}"
      ],
      "execution_count": 4,
      "outputs": [
        {
          "output_type": "stream",
          "name": "stdout",
          "text": [
            "Cloning into 'da-ebac'...\n",
            "remote: Enumerating objects: 5, done.\u001b[K\n",
            "remote: Counting objects: 100% (5/5), done.\u001b[K\n",
            "remote: Compressing objects: 100% (4/4), done.\u001b[K\n",
            "remote: Total 5 (delta 0), reused 0 (delta 0), pack-reused 0 (from 0)\u001b[K\n",
            "Receiving objects: 100% (5/5), 5.06 KiB | 5.06 MiB/s, done.\n"
          ]
        }
      ]
    },
    {
      "cell_type": "code",
      "source": [
        "print(\"URL formatada\", repo_url)"
      ],
      "metadata": {
        "colab": {
          "base_uri": "https://localhost:8080/"
        },
        "id": "3Ye0duwQIPvn",
        "outputId": "92abc8e1-36e9-4da1-9b08-17f9d2432116"
      },
      "execution_count": 5,
      "outputs": [
        {
          "output_type": "stream",
          "name": "stdout",
          "text": [
            "URL formatada https://Hogwarts86@github.com/MASGomes/da-ebac.git\n"
          ]
        }
      ]
    },
    {
      "cell_type": "code",
      "source": [
        "ls -1 /content/"
      ],
      "metadata": {
        "colab": {
          "base_uri": "https://localhost:8080/"
        },
        "id": "KzeaJooJIXoL",
        "outputId": "a403fc49-f725-4e1c-fe51-6f688df3be97"
      },
      "execution_count": 6,
      "outputs": [
        {
          "output_type": "stream",
          "name": "stdout",
          "text": [
            "\u001b[0m\u001b[01;34mda-ebac\u001b[0m/\n",
            "\u001b[01;34msample_data\u001b[0m/\n"
          ]
        }
      ]
    },
    {
      "cell_type": "code",
      "source": [
        "!rm -rf /content/da-ebac/.git\n",
        "!git clone {repo_url}"
      ],
      "metadata": {
        "colab": {
          "base_uri": "https://localhost:8080/"
        },
        "id": "A8DgYluWIhe6",
        "outputId": "261e303c-4a5f-4e64-e380-25a48b584346"
      },
      "execution_count": 11,
      "outputs": [
        {
          "output_type": "stream",
          "name": "stdout",
          "text": [
            "fatal: destination path 'da-ebac' already exists and is not an empty directory.\n"
          ]
        }
      ]
    },
    {
      "cell_type": "code",
      "metadata": {
        "id": "5-FAaAQXkdKP",
        "colab": {
          "base_uri": "https://localhost:8080/"
        },
        "outputId": "4f47f775-0a42-4b0f-9d9a-44f6f21bc562"
      },
      "source": [
        "%cd /content/da-ebac # insira o nome do seu repositório"
      ],
      "execution_count": 12,
      "outputs": [
        {
          "output_type": "stream",
          "name": "stdout",
          "text": [
            "[Errno 2] No such file or directory: '/content/da-ebac # insira o nome do seu repositório'\n",
            "/content\n"
          ]
        }
      ]
    },
    {
      "cell_type": "markdown",
      "metadata": {
        "id": "waxn4B2UDHyl"
      },
      "source": [
        "---"
      ]
    },
    {
      "cell_type": "markdown",
      "metadata": {
        "id": "finLQoyyGVmk"
      },
      "source": [
        "## 2\\. Preço da gasolina"
      ]
    },
    {
      "cell_type": "markdown",
      "metadata": {
        "id": "7dJne-O92n2v"
      },
      "source": [
        "O código abaixo gera um arquivo com o preço médio de venda da gasolina na cidade de São Paulo nos 10 primeiros dias de Julho de 2021."
      ]
    },
    {
      "cell_type": "markdown",
      "metadata": {
        "id": "O_uRYGzqy8OV"
      },
      "source": [
        "> **Nota**: Este arquivo é o mesmo do exercício do módulo anterior."
      ]
    },
    {
      "cell_type": "code",
      "metadata": {
        "id": "Uhvy1LG31n1A",
        "colab": {
          "base_uri": "https://localhost:8080/"
        },
        "outputId": "fda5603d-7ff7-425c-bcfe-2ddf969300c7"
      },
      "source": [
        "%%writefile gasolina.csv\n",
        "dia,venda\n",
        "1,5.11\n",
        "2,4.99\n",
        "3,5.02\n",
        "4,5.21\n",
        "5,5.07\n",
        "6,5.09\n",
        "7,5.13\n",
        "8,5.12\n",
        "9,4.94\n",
        "10,5.03"
      ],
      "execution_count": 13,
      "outputs": [
        {
          "output_type": "stream",
          "name": "stdout",
          "text": [
            "Writing gasolina.csv\n"
          ]
        }
      ]
    },
    {
      "cell_type": "markdown",
      "metadata": {
        "id": "lcNhd195zE3t"
      },
      "source": [
        "### **2.1. Branch**"
      ]
    },
    {
      "cell_type": "markdown",
      "metadata": {
        "id": "vK0ZbC9ozG4m"
      },
      "source": [
        "Crie uma branch chamada `develop` e aponte o context do `git` para a nova branch. Vamos simular uma atualização no exercício do módulo anterior."
      ]
    },
    {
      "cell_type": "code",
      "metadata": {
        "id": "Hz6irIJszysS",
        "colab": {
          "base_uri": "https://localhost:8080/"
        },
        "outputId": "eb2c7ae4-8db1-437f-e28c-cc1d4ed1a2a6"
      },
      "source": [
        "!git branch develop # código de criação da branch develop\n",
        "!git checkout develop"
      ],
      "execution_count": 14,
      "outputs": [
        {
          "output_type": "stream",
          "name": "stdout",
          "text": [
            "fatal: not a git repository (or any of the parent directories): .git\n",
            "fatal: not a git repository (or any of the parent directories): .git\n"
          ]
        }
      ]
    },
    {
      "cell_type": "markdown",
      "metadata": {
        "id": "eun0qdii21WO"
      },
      "source": [
        "### **2.2. Desenvolvimento**"
      ]
    },
    {
      "cell_type": "markdown",
      "metadata": {
        "id": "5MiknLIh2460"
      },
      "source": [
        "Gere uma gráfico de linha utilizando os dados do arquivo `gasolina.csv` com o dia no eixo `x`\n",
        " e o seu preço no eixo `y` utilizando os pacotes Python de sua preferência, como o Pandas e o Seaborn. Salve o gráfico no arquivo `gasolina.png` e o seu código Python de geração no arquivo `gasolina.py`."
      ]
    },
    {
      "cell_type": "markdown",
      "metadata": {
        "id": "8B3QgjlpzYdI"
      },
      "source": [
        "> **Nota**: Este gráfico deve alguns elementos diferente do anterior, como título, legenda, etc."
      ]
    },
    {
      "cell_type": "code",
      "metadata": {
        "id": "PPzewPcD3Z8n",
        "colab": {
          "base_uri": "https://localhost:8080/",
          "height": 565
        },
        "outputId": "a99364a6-b067-4a36-93be-c8b2048d6ae2"
      },
      "source": [
        "# código de geração do gráfico\n",
        "\n",
        "import pandas as pd\n",
        "import matplotlib.pyplot as plt\n",
        "import seaborn as sns\n",
        "\n",
        "df = pd.read_csv('gasolina.csv')\n",
        "sns.set_style('darkgrid')\n",
        "plt.figure(figsize=(10, 6))\n",
        "plt.plot(df['dia'], df['venda'], marker='o', linestyle='-')\n",
        "plt.title('Preço Médio da Gasolina na Cidade de São Paulo nos 10 Primeiros Dias de Julho de 2021')\n",
        "plt.xlabel('Dia')\n",
        "plt.ylabel('Preço')\n",
        "plt.grid(True)"
      ],
      "execution_count": 15,
      "outputs": [
        {
          "output_type": "display_data",
          "data": {
            "text/plain": [
              "<Figure size 1000x600 with 1 Axes>"
            ],
            "image/png": "[encoded data removed]"
          },
          "metadata": {}
        }
      ]
    },
    {
      "cell_type": "markdown",
      "metadata": {
        "id": "T51dv46X3YoT"
      },
      "source": [
        "### **2.3. Git**"
      ]
    },
    {
      "cell_type": "markdown",
      "metadata": {
        "id": "iyb6rFFX3YoU"
      },
      "source": [
        "Utilizando os comandos do `git`, adicione e \"commite\" os arquivos gerados (base, código Python e gráfico) na branch `develop`."
      ]
    },
    {
      "cell_type": "code",
      "metadata": {
        "id": "tRAunRfR4RfG",
        "colab": {
          "base_uri": "https://localhost:8080/"
        },
        "outputId": "b734a61b-74d6-4fa5-83b8-a09fe19fdaf9"
      },
      "source": [
        "!git init"
      ],
      "execution_count": 16,
      "outputs": [
        {
          "output_type": "stream",
          "name": "stdout",
          "text": [
            "\u001b[33mhint: Using 'master' as the name for the initial branch. This default branch name\u001b[m\n",
            "\u001b[33mhint: is subject to change. To configure the initial branch name to use in all\u001b[m\n",
            "\u001b[33mhint: of your new repositories, which will suppress this warning, call:\u001b[m\n",
            "\u001b[33mhint: \u001b[m\n",
            "\u001b[33mhint: \tgit config --global init.defaultBranch <name>\u001b[m\n",
            "\u001b[33mhint: \u001b[m\n",
            "\u001b[33mhint: Names commonly chosen instead of 'master' are 'main', 'trunk' and\u001b[m\n",
            "\u001b[33mhint: 'development'. The just-created branch can be renamed via this command:\u001b[m\n",
            "\u001b[33mhint: \u001b[m\n",
            "\u001b[33mhint: \tgit branch -m <name>\u001b[m\n",
            "Initialized empty Git repository in /content/.git/\n"
          ]
        }
      ]
    },
    {
      "cell_type": "code",
      "source": [
        "!git add .\n",
        "!git commit -m 'da-ebac'"
      ],
      "metadata": {
        "colab": {
          "base_uri": "https://localhost:8080/"
        },
        "id": "toyDxHOXJGi5",
        "outputId": "8c8f4d98-b3fc-4d62-d203-12022351f715"
      },
      "execution_count": 18,
      "outputs": [
        {
          "output_type": "stream",
          "name": "stdout",
          "text": [
            "[master (root-commit) 0f8bc50] da-ebac\n",
            " 25 files changed, 51261 insertions(+)\n",
            " create mode 100644 .config/.last_opt_in_prompt.yaml\n",
            " create mode 100644 .config/.last_survey_prompt.yaml\n",
            " create mode 100644 .config/.last_update_check.json\n",
            " create mode 100644 .config/active_config\n",
            " create mode 100644 .config/config_sentinel\n",
            " create mode 100644 .config/configurations/config_default\n",
            " create mode 100644 .config/default_configs.db\n",
            " create mode 100644 .config/gce\n",
            " create mode 100644 .config/hidden_gcloud_config_universe_descriptor_data_cache_configs.db\n",
            " create mode 100644 .config/logs/2025.02.26/18.26.26.520512.log\n",
            " create mode 100644 .config/logs/2025.02.26/18.26.47.024567.log\n",
            " create mode 100644 .config/logs/2025.02.26/18.26.54.933299.log\n",
            " create mode 100644 .config/logs/2025.02.26/18.26.56.084580.log\n",
            " create mode 100644 .config/logs/2025.02.26/18.27.04.448753.log\n",
            " create mode 100644 .config/logs/2025.02.26/18.27.05.090076.log\n",
            " create mode 100644 da-ebac/.gitignore\n",
            " create mode 100644 da-ebac/LICENSE\n",
            " create mode 100644 da-ebac/README.md\n",
            " create mode 100644 gasolina.csv\n",
            " create mode 100755 sample_data/README.md\n",
            " create mode 100755 sample_data/anscombe.json\n",
            " create mode 100644 sample_data/california_housing_test.csv\n",
            " create mode 100644 sample_data/california_housing_train.csv\n",
            " create mode 100644 sample_data/mnist_test.csv\n",
            " create mode 100644 sample_data/mnist_train_small.csv\n"
          ]
        }
      ]
    },
    {
      "cell_type": "code",
      "source": [
        "!git status"
      ],
      "metadata": {
        "colab": {
          "base_uri": "https://localhost:8080/"
        },
        "id": "sr7INXR-JVZt",
        "outputId": "76cde349-9c83-493c-d1dd-db0684ce1c5a"
      },
      "execution_count": 19,
      "outputs": [
        {
          "output_type": "stream",
          "name": "stdout",
          "text": [
            "On branch master\n",
            "nothing to commit, working tree clean\n"
          ]
        }
      ]
    },
    {
      "cell_type": "code",
      "source": [
        "!git log --oneline --graph --decorate --all"
      ],
      "metadata": {
        "colab": {
          "base_uri": "https://localhost:8080/"
        },
        "id": "PQ8jhN8sJZvF",
        "outputId": "a129173d-4f70-42fa-91d3-8d4a11118f35"
      },
      "execution_count": 20,
      "outputs": [
        {
          "output_type": "stream",
          "name": "stdout",
          "text": [
            "* \u001b[33m0f8bc50\u001b[m\u001b[33m (\u001b[m\u001b[1;36mHEAD -> \u001b[m\u001b[1;32mmaster\u001b[m\u001b[33m)\u001b[m da-ebac\n"
          ]
        }
      ]
    },
    {
      "cell_type": "code",
      "source": [],
      "metadata": {
        "id": "hKhU_j9BJgOM"
      },
      "execution_count": null,
      "outputs": []
    },
    {
      "cell_type": "markdown",
      "metadata": {
        "id": "ozAPHQJu4P00"
      },
      "source": [
        "### **2.4. Github**"
      ]
    },
    {
      "cell_type": "markdown",
      "metadata": {
        "id": "2JkFXRdW4P01"
      },
      "source": [
        "Utilizando os comandos do `git`, envie o seu commit para o GitHub."
      ]
    },
    {
      "cell_type": "code",
      "metadata": {
        "id": "xEKWMYH75FfC",
        "colab": {
          "base_uri": "https://localhost:8080/"
        },
        "outputId": "27ac64dc-0029-4ce9-e9e9-8c2cb437925e"
      },
      "source": [
        "# comandos git para enviar o commit para o GitHub\n",
        "!git push origin main"
      ],
      "execution_count": 22,
      "outputs": [
        {
          "output_type": "stream",
          "name": "stdout",
          "text": [
            "error: src refspec main does not match any\n",
            "\u001b[31merror: failed to push some refs to 'origin'\n",
            "\u001b[m"
          ]
        }
      ]
    },
    {
      "cell_type": "markdown",
      "metadata": {
        "id": "HX7eUrz90DoF"
      },
      "source": []
    },
    {
      "cell_type": "code",
      "source": [],
      "metadata": {
        "id": "HVY6iIGlJurq"
      },
      "execution_count": null,
      "outputs": []
    },
    {
      "cell_type": "markdown",
      "metadata": {
        "id": "fM_de4pA0D54"
      },
      "source": [
        "### **2.5. Pull Request e Merge**"
      ]
    },
    {
      "cell_type": "markdown",
      "metadata": {
        "id": "w9byTlNc0D55"
      },
      "source": [
        "No GitHub, crie um *pull request* (PR) para enviar o código da branch de `develop` para a branch `main`. Ainda na plataforma online, confira as atualizações, aprove o PR e realize o *merge*."
      ]
    },
    {
      "cell_type": "markdown",
      "metadata": {
        "id": "As3enQc2GVm1"
      },
      "source": [
        "---"
      ]
    }
  ]
}